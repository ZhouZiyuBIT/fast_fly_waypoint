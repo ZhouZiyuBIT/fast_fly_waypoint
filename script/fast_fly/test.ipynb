{
 "cells": [
  {
   "cell_type": "code",
   "execution_count": 1,
   "metadata": {},
   "outputs": [],
   "source": [
    "import casadi as ca\n",
    "import numpy as np\n",
    "import matplotlib.pyplot as plt\n",
    "import time\n"
   ]
  },
  {
   "cell_type": "code",
   "execution_count": 33,
   "metadata": {},
   "outputs": [
    {
     "data": {
      "text/plain": [
       "0"
      ]
     },
     "execution_count": 33,
     "metadata": {},
     "output_type": "execute_result"
    }
   ],
   "source": [
    "np.random.randint(0,1)"
   ]
  },
  {
   "cell_type": "code",
   "execution_count": 2,
   "metadata": {},
   "outputs": [],
   "source": [
    "class Near():\n",
    "    def __init__(self, path=None):\n",
    "        \n",
    "        opt_option = {\n",
    "                'verbose': False,\n",
    "                'ipopt.tol': 1e-2,\n",
    "                'ipopt.acceptable_tol': 1e-2,\n",
    "                'ipopt.max_iter': 20,\n",
    "                # 'ipopt.warm_start_init_point': 'yes',\n",
    "                'ipopt.print_level': 0,\n",
    "            }\n",
    "\n",
    "        if path==None:\n",
    "            t = ca.SX.sym('t')\n",
    "            traj_ploy = ca.SX.sym(\"traj_ploy\", 12, 2)\n",
    "            dts = ca.SX.sym(\"dts\",2)\n",
    "            pos = ca.SX.sym('pos', 3)\n",
    "\n",
    "            obj = (self.traj_ploy(traj_ploy, dts, t)-pos).T@(self.traj_ploy(traj_ploy, dts, t)-pos)\n",
    "\n",
    "            nlp_dect = {\n",
    "                'f': obj,\n",
    "                'x': t,\n",
    "                'p': ca.vertcat(traj_ploy[:,0], traj_ploy[:,1], dts, pos)\n",
    "            }\n",
    "            self._opt_solver = ca.nlpsol('opt', 'ipopt', nlp_dect, opt_option)\n",
    "        else:\n",
    "            self._opt_solver = ca.nlpsol('opt', 'ipopt', path, opt_option)\n",
    "\n",
    "    def solve(self, coef1, coef2, dt1, dt2, pos):\n",
    "        p = np.zeros(12*2+2+3)\n",
    "        p[:12] = coef1\n",
    "        p[12:24] = coef2\n",
    "        p[24] = dt1\n",
    "        p[25] = dt2\n",
    "        p[26:] = pos\n",
    "\n",
    "        res = self._opt_solver(\n",
    "            x0=0,\n",
    "            p=p\n",
    "        )\n",
    "\n",
    "        return res['x'].full().flatten()\n",
    "\n",
    "\n",
    "    def traj_ploy(self, ploy_coef, dts, t):\n",
    "        p=0\n",
    "\n",
    "        a0=ploy_coef[:3,0]\n",
    "        a1=ploy_coef[3:6,0]\n",
    "        a2=ploy_coef[6:9,0]\n",
    "        a3=ploy_coef[9:12,0]\n",
    "        dt = dts[0]+t\n",
    "        dtdt = dt*dt\n",
    "        dtdtdt = dtdt*dt\n",
    "        p+= (t<=0)*( a0+a1*dt+a2*dtdt+a3*dtdtdt )\n",
    "        \n",
    "        a0=ploy_coef[:3,1]\n",
    "        a1=ploy_coef[3:6,1]\n",
    "        a2=ploy_coef[6:9,1]\n",
    "        a3=ploy_coef[9:12,1]\n",
    "        dt = t\n",
    "        dtdt = dt*dt\n",
    "        dtdtdt = dtdt*dt\n",
    "        p+= (t>0)*( a0+a1*dt+a2*dtdt+a3*dtdtdt )\n",
    "\n",
    "        return p"
   ]
  },
  {
   "cell_type": "code",
   "execution_count": null,
   "metadata": {},
   "outputs": [],
   "source": []
  },
  {
   "cell_type": "code",
   "execution_count": 48,
   "metadata": {},
   "outputs": [
    {
     "data": {
      "text/plain": [
       "array([[-5.99138145, -2.00033162, -2.20506168],\n",
       "       [-6.00754515, -1.81512645, -2.30761251],\n",
       "       [-5.97538788, -1.6334608 , -2.41308567],\n",
       "       [-5.89587599, -1.45522369, -2.52045875],\n",
       "       [-5.76995826, -1.28026713, -2.62873021],\n",
       "       [-5.59856783, -1.10840741, -2.73691998],\n",
       "       [-5.38262409, -0.93942664, -2.84407012],\n",
       "       [-5.12303434, -0.77307409, -2.94924537],\n",
       "       [-4.82069547, -0.6090677 , -3.05153383],\n",
       "       [-4.47649551, -0.44709549, -3.1500475 ],\n",
       "       [-4.09131502, -0.28681703, -3.24392296],\n",
       "       [-3.66602851, -0.1278649 , -3.33232187],\n",
       "       [-3.20150589,  0.03015383, -3.41443147],\n",
       "       [-2.70090324,  0.18743312, -3.48803991],\n",
       "       [-2.16353319,  0.34455843, -3.5533727 ],\n",
       "       [-1.58769355,  0.50340751, -3.6067151 ],\n",
       "       [-0.97257047,  0.66631705, -3.6425448 ],\n",
       "       [-0.31810156,  0.83567248, -3.65537557],\n",
       "       [ 0.3750331 ,  1.01387515, -3.63983071],\n",
       "       [ 1.09846622,  1.20133803, -3.59020883],\n",
       "       [ 1.68608929,  1.35620406, -3.52078078],\n",
       "       [ 2.29071466,  1.52632229, -3.42675835],\n",
       "       [ 2.90565827,  1.72119598, -3.31563516],\n",
       "       [ 3.52029744,  1.9453217 , -3.19573985],\n",
       "       [ 4.12050401,  2.18694996, -3.06773114],\n",
       "       [ 4.69601297,  2.45461452, -2.94294365],\n",
       "       [ 5.23584403,  2.74065287, -2.82358362],\n",
       "       [ 5.73835976,  3.03061615, -2.70267022],\n",
       "       [ 6.19560099,  3.31618895, -2.58041992],\n",
       "       [ 6.60577829,  3.59266599, -2.45935605],\n",
       "       [ 6.96871205,  3.85836584, -2.33869327],\n",
       "       [ 7.28535091,  4.11263841, -2.21809971],\n",
       "       [ 7.55696774,  4.35518095, -2.09740593],\n",
       "       [ 7.78488611,  4.58581502, -1.97652216],\n",
       "       [ 7.97042925,  4.80443334, -1.85541106],\n",
       "       [ 8.1149064 ,  5.01097814, -1.73407256],\n",
       "       [ 8.21960672,  5.20542754, -1.61253294],\n",
       "       [ 8.28580436,  5.38778743, -1.49083173],\n",
       "       [ 8.31499357,  5.55812953, -1.36887775],\n",
       "       [ 8.3081001 ,  5.71644491, -1.24691314],\n",
       "       [ 8.26639124,  5.86298456, -1.1252272 ],\n",
       "       [ 8.19110176,  5.99799096, -1.00409817],\n",
       "       [ 8.06638884,  6.14127821, -0.86474957],\n",
       "       [ 7.89979953,  6.26970205, -0.72684997],\n",
       "       [ 7.69309799,  6.38359313, -0.59078035],\n",
       "       [ 7.44799221,  6.48326552, -0.45690273],\n",
       "       [ 7.16631868,  6.56905971, -0.3254374 ],\n",
       "       [ 6.84955986,  6.64123182, -0.19678975],\n",
       "       [ 6.49933317,  6.70022524, -0.07149034],\n",
       "       [ 6.1172832 ,  6.7465409 ,  0.04989972],\n",
       "       [ 5.70504451,  6.78070167,  0.16680448],\n",
       "       [ 5.26431181,  6.80327269,  0.27867867],\n",
       "       [ 4.79675721,  6.81485141,  0.38492223],\n",
       "       [ 4.30398275,  6.81594476,  0.48471646],\n",
       "       [ 3.78784443,  6.80692789,  0.57721166],\n",
       "       [ 3.25027185,  6.78818298,  0.66149417],\n",
       "       [ 2.69330072,  6.76009562,  0.73658319],\n",
       "       [ 2.11910148,  6.7230593 ,  0.80142586],\n",
       "       [ 1.53002773,  6.67748538,  0.85491113],\n",
       "       [ 0.92878011,  6.62384707,  0.89604201],\n",
       "       [ 0.31820255,  6.56264805,  0.92360798],\n",
       "       [-0.29806114,  6.494355  ,  0.93678743],\n",
       "       [-0.91671506,  6.41864883,  0.93297378],\n",
       "       [-1.53252783,  6.3366561 ,  0.91029515],\n",
       "       [-2.14006438,  6.24960526,  0.86757836],\n",
       "       [-2.73391232,  6.15868728,  0.80430446],\n",
       "       [-3.30874703,  6.06504511,  0.72060015],\n",
       "       [-3.85939556,  5.9697637 ,  0.61722227],\n",
       "       [-4.38089877,  5.87386059,  0.49553543],\n",
       "       [-4.86857082,  5.77827713,  0.35748317],\n",
       "       [-5.31805558,  5.68387047,  0.20555283],\n",
       "       [-5.725379  ,  5.59140645,  0.04273463],\n",
       "       [-6.08699721,  5.50155348, -0.12752467],\n",
       "       [-6.40021862,  5.41487662, -0.300933  ],\n",
       "       [-6.66291168,  5.33182295, -0.47297366],\n",
       "       [-6.87380341,  5.25327373, -0.63932533],\n",
       "       [-7.03137919,  5.18025417, -0.79719878],\n",
       "       [-7.13562934,  5.1135466 , -0.94457522],\n",
       "       [-7.1886357 ,  5.05393662, -1.0789435 ],\n",
       "       [-7.19028383,  5.00222267, -1.19918418],\n",
       "       [-7.14787499,  4.96358935, -1.29169104],\n",
       "       [-7.06859317,  4.92966763, -1.37406461],\n",
       "       [-6.95351713,  4.89976755, -1.44664482],\n",
       "       [-6.80400559,  4.87320026, -1.50962814],\n",
       "       [-6.62091583,  4.84932967, -1.56342405],\n",
       "       [-6.40529262,  4.8273465 , -1.60863182],\n",
       "       [-6.15829347,  4.80638544, -1.64590891],\n",
       "       [-5.8810927 ,  4.78557565, -1.6759452 ],\n",
       "       [-5.5748856 ,  4.76404001, -1.6994655 ],\n",
       "       [-5.2408962 ,  4.74089325, -1.7172327 ],\n",
       "       [-4.8803862 ,  4.71524015, -1.73005073],\n",
       "       [-4.49466532,  4.68617403, -1.73876743],\n",
       "       [-4.08510391,  4.65277563, -1.74427661],\n",
       "       [-3.6531667 ,  4.61411613, -1.74750686],\n",
       "       [-3.20080637,  4.56934147, -1.7491582 ],\n",
       "       [-2.7293098 ,  4.51740481, -1.75053891],\n",
       "       [-2.24098375,  4.45715266, -1.75291198],\n",
       "       [-1.7380596 ,  4.38731417, -1.75786517],\n",
       "       [-1.22265059,  4.30619689, -1.76673783],\n",
       "       [-0.69720399,  4.21204237, -1.78026221],\n",
       "       [-0.16424901,  4.10326124, -1.79902539],\n",
       "       [ 0.37361809,  3.97843931, -1.82346964],\n",
       "       [ 0.9137494 ,  3.83634269, -1.85389336],\n",
       "       [ 1.45346087,  3.67592207, -1.89045283],\n",
       "       [ 1.99004813,  3.496316  , -1.93316451],\n",
       "       [ 2.52080231,  3.29685312, -1.98190816],\n",
       "       [ 3.04302592,  3.07705355, -2.03643053],\n",
       "       [ 3.55404867,  2.83662913, -2.0963498 ],\n",
       "       [ 4.05123911,  2.5755537 , -2.16108096],\n",
       "       [ 4.53203249,  2.29385769, -2.23007046],\n",
       "       [ 4.99409774,  1.99221923, -2.30215236],\n",
       "       [ 5.42400434,  1.67870921, -2.3750797 ],\n",
       "       [ 5.83193471,  1.34751776, -2.44981622],\n",
       "       [ 6.21589084,  0.99938798, -2.52615658],\n",
       "       [ 6.5741391 ,  0.63578246, -2.60379763],\n",
       "       [ 6.90506721,  0.25825933, -2.68235727],\n",
       "       [ 7.20719147, -0.13153586, -2.76137834],\n",
       "       [ 7.47916346, -0.53187839, -2.84033277],\n",
       "       [ 7.71977609, -0.94097292, -2.91862601],\n",
       "       [ 7.92796906, -1.3569624 , -2.99560171],\n",
       "       [ 8.10283364, -1.77793713, -3.07054657],\n",
       "       [ 8.24361673, -2.2019442 , -3.14269552],\n",
       "       [ 8.34972424, -2.62699696, -3.21123696],\n",
       "       [ 8.42072375, -3.05108471, -3.27531823],\n",
       "       [ 8.4563464 , -3.47218249, -3.33405117],\n",
       "       [ 8.45648807, -3.88826087, -3.38651787],\n",
       "       [ 8.42120977, -4.29729581, -3.43177642],\n",
       "       [ 8.35073735, -4.69727841, -3.46886677],\n",
       "       [ 8.24546033, -5.08622461, -3.49681667],\n",
       "       [ 8.10593012, -5.46218481, -3.51464752],\n",
       "       [ 7.93285743, -5.82325325, -3.52138027],\n",
       "       [ 7.72746396, -6.16763503, -3.51593244],\n",
       "       [ 7.49266247, -6.49398542, -3.49683846],\n",
       "       [ 7.22305731, -6.80518862, -3.46350077],\n",
       "       [ 6.92304044, -7.09592673, -3.41684757],\n",
       "       [ 6.59375668, -7.36640704, -3.35771908],\n",
       "       [ 6.23663955, -7.61694183, -3.28684714],\n",
       "       [ 5.85248636, -7.84765778, -3.20511923],\n",
       "       [ 5.44262991, -8.05912169, -3.11344313],\n",
       "       [ 5.00806878, -8.25182525, -3.01281004],\n",
       "       [ 4.54987179, -8.4261154 , -2.90441954],\n",
       "       [ 4.06971421, -8.58241732, -2.78944564],\n",
       "       [ 3.56841962, -8.72079523, -2.66956078],\n",
       "       [ 3.04750027, -8.84181106, -2.54659383],\n",
       "       [ 2.50857603, -8.94598518, -2.42241778],\n",
       "       [ 1.9534501 , -9.03377276, -2.29897617],\n",
       "       [ 1.38417549, -9.10556435, -2.17828672],\n",
       "       [ 0.80322894, -9.16174344, -2.06233696],\n",
       "       [ 0.21379509, -9.20282214, -1.95279031],\n",
       "       [-0.38172925, -9.22847882, -1.85296197],\n",
       "       [-0.97866033, -9.2387045 , -1.7653583 ],\n",
       "       [-1.57214369, -9.23380467, -1.69187968],\n",
       "       [-2.15724078, -9.21439254, -1.63380052],\n",
       "       [-2.72901641, -9.18137719, -1.59175922],\n",
       "       [-3.28262599, -9.13594668, -1.56575867],\n",
       "       [-3.81340114, -9.07954665, -1.55517698],\n",
       "       [-4.31693227, -9.01385454, -1.55878833],\n",
       "       [-4.78965317, -8.94104095, -1.57365388],\n",
       "       [-5.22771059, -8.8629745 , -1.59806504],\n",
       "       [-5.62927272, -8.78174464, -1.62949224],\n",
       "       [-5.99294506, -8.69928982, -1.66608828],\n",
       "       [-6.31730039, -8.61673757, -1.7065901 ],\n",
       "       [-6.60179985, -8.53455215, -1.74931601],\n",
       "       [-6.84628436, -8.45314946, -1.79273706],\n",
       "       [-7.05082704, -8.37292061, -1.83550352],\n",
       "       [-7.21568914, -8.29423139, -1.87643316],\n",
       "       [-7.34129268, -8.21742339, -1.91448677],\n",
       "       [-7.42844439, -8.14281561, -1.94859557],\n",
       "       [-7.47809196, -8.07069649, -1.97781865],\n",
       "       [-7.49033445, -8.00128276, -2.00222297],\n",
       "       [-7.45429298, -7.90094295, -2.0321967 ],\n",
       "       [-7.33894119, -7.80696711, -2.05270594],\n",
       "       [-7.14853431, -7.71950325, -2.06460919],\n",
       "       [-6.88682933, -7.63869006, -2.06891067],\n",
       "       [-6.55769457, -7.56448001, -2.06732186],\n",
       "       [-6.16546966, -7.49661596, -2.06202055],\n",
       "       [-5.7146519 , -7.43470512, -2.05542902],\n",
       "       [-5.21003285, -7.3781767 , -2.05028427],\n",
       "       [-4.65691855, -7.32621784, -2.04972675],\n",
       "       [-4.06146101, -7.27767815, -2.05742179],\n",
       "       [-3.43182908, -7.2309293 , -2.07700452],\n",
       "       [-2.7787422 , -7.18373459, -2.11205253],\n",
       "       [-2.11395286, -7.13206266, -2.17436569],\n",
       "       [-1.46413796, -7.06975319, -2.270398  ],\n",
       "       [-0.85616404, -6.99227198, -2.39811358],\n",
       "       [-0.31457285, -6.89700126, -2.54743574],\n",
       "       [ 0.14394605, -6.7846354 , -2.697905  ],\n",
       "       [ 0.50545334, -6.65640482, -2.82936052],\n",
       "       [ 0.76513048, -6.51437626, -2.92798311],\n",
       "       [ 0.92576895, -6.3612327 , -2.98553954],\n",
       "       [ 0.99047583, -6.19927665, -2.99703743],\n",
       "       [ 0.96160619, -6.03565727, -2.96432912],\n",
       "       [ 0.84904221, -5.86554837, -2.89484945],\n",
       "       [ 0.65778022, -5.68961162, -2.79347188],\n",
       "       [ 0.39221628, -5.5083379 , -2.66489151],\n",
       "       [ 0.05676411, -5.32178669, -2.51523804],\n",
       "       [-0.34154923, -5.12983801, -2.35172608],\n",
       "       [-0.79681397, -4.93157103, -2.18356795],\n",
       "       [-1.29931604, -4.72520308, -2.02337788],\n",
       "       [-1.83610289, -4.5104213 , -1.88329862],\n",
       "       [-2.39210832, -4.28865808, -1.77238657],\n",
       "       [-2.95124658, -4.06141121, -1.69645835],\n",
       "       [-3.4970423 , -3.83019519, -1.65795798],\n",
       "       [-4.01332323, -3.59659243, -1.65525586],\n",
       "       [-4.48551498, -3.36229759, -1.68190329],\n",
       "       [-4.90060905, -3.1283113 , -1.73351227],\n",
       "       [-5.25282729, -2.89585615, -1.80492749],\n",
       "       [-5.53906369, -2.6660285 , -1.8909347 ],\n",
       "       [-5.75739703, -2.43968373, -1.98762124],\n",
       "       [-5.90771595, -2.21760954, -2.09281869],\n",
       "       [-5.99138145, -2.00033162, -2.20506168]])"
      ]
     },
     "execution_count": 48,
     "metadata": {},
     "output_type": "execute_result"
    }
   ],
   "source": [
    "from trajectory import Trajectory\n",
    "\n",
    "traj = Trajectory(\"./results/res_t_n8.csv\", near_path=\"./generated/near.so\")\n",
    "traj._pos"
   ]
  },
  {
   "cell_type": "code",
   "execution_count": 81,
   "metadata": {},
   "outputs": [
    {
     "name": "stdout",
     "output_type": "stream",
     "text": [
      "0.0016748905181884766\n"
     ]
    },
    {
     "data": {
      "image/png": "[encoded data removed]",
      "text/plain": [
       "<Figure size 432x288 with 1 Axes>"
      ]
     },
     "metadata": {
      "needs_background": "light"
     },
     "output_type": "display_data"
    }
   ],
   "source": [
    "plt.plot(traj._pos[:,0], traj._pos[:,1])\n",
    "t1 = time.time()\n",
    "# p,v = traj.sample_dt(10, np.array([-5, 2.00033162, 2.20506168]), 0.1)\n",
    "traj.sample(30,np.array([-5, 2.00033162, 2.20506168]))\n",
    "t2 = time.time()\n",
    "print(t2-t1)\n",
    "# plt.scatter(p[:,0], p[:,1])"
   ]
  },
  {
   "cell_type": "code",
   "execution_count": null,
   "metadata": {},
   "outputs": [],
   "source": []
  },
  {
   "cell_type": "code",
   "execution_count": 113,
   "metadata": {},
   "outputs": [
    {
     "name": "stdout",
     "output_type": "stream",
     "text": [
      "         opt  :   t_proc      (avg)   t_wall      (avg)    n_eval\n",
      "       nlp_f  |  21.00us (  7.00us)  17.63us (  5.88us)         3\n",
      "    nlp_grad  |   7.00us (  7.00us)   6.41us (  6.41us)         1\n",
      "  nlp_grad_f  |  20.00us (  5.00us)  17.83us (  4.46us)         4\n",
      "  nlp_hess_l  |   7.00us (  3.50us)   7.22us (  3.61us)         2\n",
      "       total  |   2.17ms (  2.17ms)   2.16ms (  2.16ms)         1\n"
     ]
    },
    {
     "data": {
      "text/plain": [
       "array([-0.03987776])"
      ]
     },
     "execution_count": 113,
     "metadata": {},
     "output_type": "execute_result"
    }
   ],
   "source": [
    "nn = Near(\"./generated/near.so\")\n",
    "# nn = Near()\n",
    "nn.solve(traj._ploynomials[0], traj._ploynomials[1], traj._dt[0], traj._dt[1], np.array([-6., -1.8, -2]))"
   ]
  },
  {
   "cell_type": "code",
   "execution_count": 67,
   "metadata": {},
   "outputs": [
    {
     "data": {
      "text/plain": [
       "'near.c'"
      ]
     },
     "execution_count": 67,
     "metadata": {},
     "output_type": "execute_result"
    }
   ],
   "source": [
    "nn._opt_solver.generate_dependencies('near.c')"
   ]
  },
  {
   "cell_type": "code",
   "execution_count": null,
   "metadata": {},
   "outputs": [],
   "source": [
    "# Quaternion Multiplication\n",
    "def quat_mult(q1,q2):\n",
    "    ans = ca.vertcat(q2[0,:] * q1[0,:] - q2[1,:] * q1[1,:] - q2[2,:] * q1[2,:] - q2[3,:] * q1[3,:],\n",
    "           q2[0,:] * q1[1,:] + q2[1,:] * q1[0,:] - q2[2,:] * q1[3,:] + q2[3,:] * q1[2,:],\n",
    "           q2[0,:] * q1[2,:] + q2[2,:] * q1[0,:] + q2[1,:] * q1[3,:] - q2[3,:] * q1[1,:],\n",
    "           q2[0,:] * q1[3,:] - q2[1,:] * q1[2,:] + q2[2,:] * q1[1,:] + q2[3,:] * q1[0,:])\n",
    "    return ans\n",
    "\n",
    "# Quaternion-Vector Rotation\n",
    "def rotate_quat(q1,v1):\n",
    "    ans = quat_mult(quat_mult(q1, ca.vertcat(0, v1)), ca.vertcat(q1[0,:],-q1[1,:], -q1[2,:], -q1[3,:]))\n",
    "    return ca.vertcat(ans[1,:], ans[2,:], ans[3,:]) # to covert to 3x1 vec"
   ]
  },
  {
   "cell_type": "code",
   "execution_count": 3,
   "metadata": {},
   "outputs": [],
   "source": [
    "def ploynomial(p1, p2, v1, v2, dt):\n",
    "     a0 = p1\n",
    "     a1 = v1\n",
    "     a2 = (3*p2-3*p1-2*v1*dt-v2*dt)/dt/dt\n",
    "     a3 = (2*p1-2*p2+v2*dt+v1*dt)/dt/dt/dt\n",
    "\n",
    "     return a0, a1, a2, a3"
   ]
  },
  {
   "cell_type": "code",
   "execution_count": 37,
   "metadata": {},
   "outputs": [
    {
     "data": {
      "text/plain": [
       "[<matplotlib.lines.Line2D at 0x7eff2d4812e0>]"
      ]
     },
     "execution_count": 37,
     "metadata": {},
     "output_type": "execute_result"
    },
    {
     "data": {
      "image/png": "[encoded data removed]",
      "text/plain": [
       "<Figure size 640x480 with 1 Axes>"
      ]
     },
     "metadata": {},
     "output_type": "display_data"
    }
   ],
   "source": [
    "p1 = np.array([[0],[0]])\n",
    "p2 = np.array([[1],[1]])\n",
    "v1 = np.array([[0],[1]])\n",
    "v2 = np.array([[1],[0]])\n",
    "dt = 1\n",
    "\n",
    "a0, a1, a2, a3 = ploynomial(p1, p2, v1, v2, dt)\n",
    "\n",
    "t = np.linspace(0,2,100,endpoint=True)\n",
    "\n",
    "p = a0+a1*t+a2*t*t+a3*t*t*t\n",
    "\n",
    "plt.plot(p[0,:],p[1,:])"
   ]
  },
  {
   "cell_type": "code",
   "execution_count": 10,
   "metadata": {},
   "outputs": [
    {
     "data": {
      "text/plain": [
       "array([1, 2, 3, 4, 5, 6])"
      ]
     },
     "execution_count": 10,
     "metadata": {},
     "output_type": "execute_result"
    }
   ],
   "source": [
    "a0 = np.array([1,2,3])\n",
    "a1 = np.array([4,5,6])\n",
    "np.concatenate([a0,a1])"
   ]
  },
  {
   "cell_type": "code",
   "execution_count": 23,
   "metadata": {},
   "outputs": [
    {
     "ename": "TypeError",
     "evalue": "slice indices must be integers or None or have an __index__ method",
     "output_type": "error",
     "traceback": [
      "\u001b[0;31m---------------------------------------------------------------------------\u001b[0m",
      "\u001b[0;31mTypeError\u001b[0m                                 Traceback (most recent call last)",
      "Cell \u001b[0;32mIn[23], line 2\u001b[0m\n\u001b[1;32m      1\u001b[0m a \u001b[39m=\u001b[39m [\u001b[39m1\u001b[39m,\u001b[39m2\u001b[39m,\u001b[39m3\u001b[39m,\u001b[39m4\u001b[39m,\u001b[39m5\u001b[39m,\u001b[39m6\u001b[39m]\n\u001b[0;32m----> 2\u001b[0m a[\u001b[39mslice\u001b[39;49m(\u001b[39mslice\u001b[39;49m(\u001b[39m0\u001b[39;49m,\u001b[39m1\u001b[39;49m),\u001b[39mslice\u001b[39;49m(\u001b[39m2\u001b[39;49m,\u001b[39m3\u001b[39;49m))]\n",
      "\u001b[0;31mTypeError\u001b[0m: slice indices must be integers or None or have an __index__ method"
     ]
    }
   ],
   "source": [
    "a = [1,2,3,4,5,6]"
   ]
  },
  {
   "cell_type": "code",
   "execution_count": 47,
   "metadata": {},
   "outputs": [
    {
     "data": {
      "text/plain": [
       "nan"
      ]
     },
     "execution_count": 47,
     "metadata": {},
     "output_type": "execute_result"
    }
   ],
   "source": []
  }
 ],
 "metadata": {
  "kernelspec": {
   "display_name": "Python 3",
   "language": "python",
   "name": "python3"
  },
  "language_info": {
   "codemirror_mode": {
    "name": "ipython",
    "version": 3
   },
   "file_extension": ".py",
   "mimetype": "text/x-python",
   "name": "python",
   "nbconvert_exporter": "python",
   "pygments_lexer": "ipython3",
   "version": "3.8.10"
  },
  "orig_nbformat": 4,
  "vscode": {
   "interpreter": {
    "hash": "e7370f93d1d0cde622a1f8e1c04877d8463912d04d973331ad4851f04de6915a"
   }
  }
 },
 "nbformat": 4,
 "nbformat_minor": 2
}
